{
  "nbformat": 4,
  "nbformat_minor": 0,
  "metadata": {
    "colab": {
      "name": "spam_dec_script_1.ipynb",
      "provenance": [],
      "collapsed_sections": [],
      "private_outputs": true,
      "include_colab_link": true
    },
    "kernelspec": {
      "name": "python3",
      "display_name": "Python 3"
    },
    "language_info": {
      "name": "python"
    },
    "accelerator": "GPU",
    "gpuClass": "standard"
  },
  "cells": [
    {
      "cell_type": "markdown",
      "metadata": {
        "id": "view-in-github",
        "colab_type": "text"
      },
      "source": [
        "<a href=\"https://colab.research.google.com/github/bsrCh3rif07/Spam-Detector/blob/main/spam_dec_script_1.ipynb\" target=\"_parent\"><img src=\"https://colab.research.google.com/assets/colab-badge.svg\" alt=\"Open In Colab\"/></a>"
      ]
    },
    {
      "cell_type": "code",
      "execution_count": null,
      "metadata": {
        "id": "xIy1DAGUR9fe"
      },
      "outputs": [],
      "source": [
        "# Description : This part of program classifie if the email is spam {1} or not {0}"
      ]
    },
    {
      "cell_type": "code",
      "source": [
        "# Libraries\n",
        "import numpy as np\n",
        "import pandas as pd \n",
        "from sklearn.model_selection import train_test_split\n",
        "from sklearn.naive_bayes import MultinomialNB\n",
        "from sklearn.svm import SVC\n",
        "from sklearn.ensemble import RandomForestClassifier\n",
        "from sklearn.metrics import accuracy_score"
      ],
      "metadata": {
        "id": "VCwbsBl1SjUO"
      },
      "execution_count": null,
      "outputs": []
    },
    {
      "cell_type": "code",
      "source": [
        "# Load data\n",
        "from google.colab import files\n",
        "uploaded = files.upload()"
      ],
      "metadata": {
        "id": "At8Ve39CTQXw"
      },
      "execution_count": null,
      "outputs": []
    },
    {
      "cell_type": "code",
      "source": [
        "# Read the csv file\n",
        "df = pd.read_csv('./emails.csv')\n",
        "df.head(5)"
      ],
      "metadata": {
        "id": "Wn18hW4rVCoN"
      },
      "execution_count": null,
      "outputs": []
    },
    {
      "cell_type": "code",
      "source": [
        "df.isnull().sum()"
      ],
      "metadata": {
        "id": "3pY2c8fEbL-7"
      },
      "execution_count": null,
      "outputs": []
    },
    {
      "cell_type": "code",
      "source": [
        "df.describe()"
      ],
      "metadata": {
        "id": "0rp_UDF6bQxB"
      },
      "execution_count": null,
      "outputs": []
    },
    {
      "cell_type": "code",
      "source": [
        "df.corr()"
      ],
      "metadata": {
        "id": "_4BtR6GXbWs4"
      },
      "execution_count": null,
      "outputs": []
    },
    {
      "cell_type": "code",
      "source": [
        "X = df.iloc[:,1:3001]\n",
        "X"
      ],
      "metadata": {
        "id": "hWd0EtNMbtB0"
      },
      "execution_count": null,
      "outputs": []
    },
    {
      "cell_type": "code",
      "source": [
        "Y = df.iloc[:,-1].values\n",
        "Y"
      ],
      "metadata": {
        "id": "KIaiK-UsbvsM"
      },
      "execution_count": null,
      "outputs": []
    },
    {
      "cell_type": "code",
      "source": [
        "train_x,test_x,train_y,test_y = train_test_split(X,Y,test_size = 0.25)"
      ],
      "metadata": {
        "id": "dG9x32Enb1rD"
      },
      "execution_count": null,
      "outputs": []
    },
    {
      "cell_type": "code",
      "source": [
        "# Description : Naive Bayes\n",
        "mnb = MultinomialNB(alpha=1.9)         # alpha by default is 1. alpha must always be > 0. \n",
        "mnb.fit(train_x,train_y)               # alpha is the '1' in the formula for Laplace Smoothing (P(words))\n",
        "y_pred1 = mnb.predict(test_x)\n",
        "print(\"Accuracy Score for Naive Bayes : \", accuracy_score(y_pred1,test_y))"
      ],
      "metadata": {
        "id": "GGZmssZob2kY"
      },
      "execution_count": null,
      "outputs": []
    },
    {
      "cell_type": "code",
      "source": [
        "# Description : Support Vector Machines for the classification\n",
        "sv = SVC(C=1.0,kernel='rbf',gamma='auto')         \n",
        "sv.fit(train_x,train_y)\n",
        "y_p2 = sv.predict(test_x)\n",
        "print(\"Accuracy Score for Support Vector Machines : \", accuracy_score(y_p2,test_y))"
      ],
      "metadata": {
        "id": "ajmV4nC_cX7q"
      },
      "execution_count": null,
      "outputs": []
    },
    {
      "cell_type": "code",
      "source": [
        "# Description : Random Forests (Bagging)\n",
        "rfc = RandomForestClassifier(n_estimators=100,criterion='gini')\n",
        "rfc.fit(train_x,train_y)\n",
        "y_pred3 = rfc.predict(test_x)\n",
        "print(\"Accuracy Score of Random Forest Classifier : \", accuracy_score(y_pred3,test_y))"
      ],
      "metadata": {
        "id": "vjSZqx_CdrVK"
      },
      "execution_count": null,
      "outputs": []
    }
  ]
}